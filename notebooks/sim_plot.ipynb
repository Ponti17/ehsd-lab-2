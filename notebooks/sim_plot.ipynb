{
 "cells": [
  {
   "cell_type": "markdown",
   "metadata": {},
   "source": [
    "# Sim Plotting"
   ]
  },
  {
   "cell_type": "code",
   "execution_count": null,
   "metadata": {},
   "outputs": [],
   "source": [
    "import numpy as np\n",
    "import pandas as pd\n",
    "import matplotlib.pyplot as plt\n",
    "import matplotlib.ticker as ticker\n",
    "import os"
   ]
  },
  {
   "cell_type": "code",
   "execution_count": null,
   "metadata": {},
   "outputs": [],
   "source": [
    "DATA_DIR = '../data/'\n",
    "USTRIP_FILE = 'sim_ustrip.txt'\n",
    "STRIPLINE_FILE = 'sim_stripline.txt'\n",
    "BROADSIDE_FILE = 'sim_broad.txt'\n",
    "\n",
    "USTRIP_PATH = os.path.join(DATA_DIR, USTRIP_FILE)\n",
    "STRIPLINE_PATH = os.path.join(DATA_DIR, STRIPLINE_FILE)\n",
    "BROADSIDE_PATH = os.path.join(DATA_DIR, BROADSIDE_FILE)\n",
    "\n",
    "df_ustrip = pd.read_csv(USTRIP_PATH, sep='\\t')\n",
    "df_stripline = pd.read_csv(STRIPLINE_PATH, sep='\\t')\n",
    "df_broadside = pd.read_csv(BROADSIDE_PATH, sep='\\t')\n",
    "\n",
    "# V(probe_1) = NEXT\n",
    "# V(probe_2) = AGGRESSOR\n",
    "# V(probe_3) = FEXT"
   ]
  },
  {
   "cell_type": "code",
   "execution_count": null,
   "metadata": {},
   "outputs": [],
   "source": [
    "fig, axs = plt.subplots(2, 3)\n",
    "fig.set_figheight(7)\n",
    "fig.set_figwidth(12)\n",
    "\n",
    "axs[0, 0].set_ylabel('Near End')\n",
    "axs[1, 0].set_ylabel('Far End')\n",
    "\n",
    "x_factor = (1e9)\n",
    "x_offset = -45\n",
    "x_start = 0\n",
    "x_end = 50\n",
    "y_factor = (1e3)\n",
    "y_start_next = -100\n",
    "y_end_next = 100\n",
    "y_start_fext = -200\n",
    "y_end_fext = 200\n",
    "# ustrip NEXT\n",
    "axs[0, 0].plot(df_ustrip['time']*x_factor+x_offset, df_ustrip['V(probe_1)']*21*y_factor, color='blue', linewidth=1.25)\n",
    "axs[0, 0].set_xlim(x_start, x_end)\n",
    "axs[0, 0].set_ylim(y_start_next, y_end_next)\n",
    "axs[0, 0].grid()\n",
    "axs[0, 0].set_title('Microstrip')\n",
    "# ustrip FEXT\n",
    "axs[1, 0].plot(df_ustrip['time']*x_factor+x_offset, df_ustrip['V(probe_3)']*21*y_factor, color='orange', linewidth=1.25)\n",
    "axs[1, 0].set_xlim(x_start, x_end)\n",
    "axs[1, 0].set_ylim(y_start_fext, y_end_fext)\n",
    "axs[1, 0].grid()\n",
    "axs[1, 0].set_title('Microstrip')\n",
    "# stripline NEXT\n",
    "axs[0, 1].plot(df_stripline['time']*x_factor+x_offset, df_stripline['V(probe_1)']*21*y_factor, color='blue', linewidth=1.25)\n",
    "axs[0, 1].set_xlim(x_start, x_end)\n",
    "axs[0, 1].set_ylim(y_start_next, y_end_next)\n",
    "axs[0, 1].grid()\n",
    "axs[0, 1].set_title('Stripline')\n",
    "# stripline FEXT\n",
    "axs[1, 1].plot(df_stripline['time']*x_factor+x_offset, df_stripline['V(probe_3)']*21*y_factor, color='orange', linewidth=1.25)\n",
    "axs[1, 1].set_xlim(x_start, x_end)\n",
    "axs[1, 1].set_ylim(y_start_fext, y_end_fext)\n",
    "axs[1, 1].grid()\n",
    "axs[1, 1].set_title('Stripline')\n",
    "# broadside NEXT\n",
    "axs[0, 2].plot(df_broadside['time']*x_factor+x_offset, df_broadside['V(probe_1)']*21*y_factor, color='blue', linewidth=1.25)\n",
    "axs[0, 2].set_xlim(x_start, x_end)\n",
    "axs[0, 2].set_ylim(y_start_next, y_end_next)\n",
    "axs[0, 2].grid()\n",
    "axs[0, 2].set_title('Broadside')\n",
    "# broadside FEXT\n",
    "axs[1, 2].plot(df_broadside['time']*x_factor+x_offset, df_broadside['V(probe_3)']*21*y_factor, color='orange', linewidth=1.25)\n",
    "axs[1, 2].set_xlim(x_start, x_end)\n",
    "axs[1, 2].set_ylim(y_start_fext, y_end_fext)\n",
    "axs[1, 2].grid()\n",
    "axs[1, 2].set_title('Broadside')\n",
    "\n",
    "fig.supylabel('Voltage [mV]')\n",
    "fig.supxlabel('Time [ns]')"
   ]
  },
  {
   "cell_type": "code",
   "execution_count": null,
   "metadata": {},
   "outputs": [],
   "source": [
    "ustrip_max_next = (df_ustrip['V(probe_1)']*21*1000).max\n",
    "print(f'Microstrip NEXT: {ustrip_max_next()}')\n",
    "ustrip_min_next = (df_ustrip['V(probe_1)']*21*1000).min\n",
    "print(f'Microstrip NEXT: {ustrip_min_next()}')\n",
    "ustrip_max_fext = (df_ustrip['V(probe_3)']*21*1000).max\n",
    "print(f'Microstrip FEXT: {ustrip_max_fext()}')\n",
    "ustrip_min_fext = (df_ustrip['V(probe_3)']*21*1000).min\n",
    "print(f'Microstrip FEXT: {ustrip_min_fext()}')\n",
    "\n",
    "stripline_max_next = (df_stripline['V(probe_1)']*21*1000).max\n",
    "print(f'Stripline NEXT: {stripline_max_next()}')\n",
    "stripline_min_next = (df_stripline['V(probe_1)']*21*1000).min\n",
    "print(f'Stripline NEXT: {stripline_min_next()}')\n",
    "stripline_max_fext = (df_stripline['V(probe_3)']*21*1000).max\n",
    "print(f'Stripline FEXT: {stripline_max_fext()}')\n",
    "stripline_min_fext = (df_stripline['V(probe_3)']*21*1000).min\n",
    "print(f'Stripline FEXT: {stripline_min_fext()}')\n",
    "\n",
    "broadside_max_next = (df_broadside['V(probe_1)']*21*1000).max\n",
    "print(f'Broadside NEXT: {broadside_max_next()}')\n",
    "broadside_min_next = (df_broadside['V(probe_1)']*21*1000).min\n",
    "print(f'Broadside NEXT: {broadside_min_next()}')\n",
    "broadside_max_fext = (df_broadside['V(probe_3)']*21*1000).max\n",
    "print(f'Broadside FEXT: {broadside_max_fext()}')\n",
    "broadside_min_fext = (df_broadside['V(probe_3)']*21*1000).min\n",
    "print(f'Broadside FEXT: {broadside_min_fext()}')"
   ]
  }
 ],
 "metadata": {
  "kernelspec": {
   "display_name": ".venv",
   "language": "python",
   "name": "python3"
  },
  "language_info": {
   "codemirror_mode": {
    "name": "ipython",
    "version": 3
   },
   "file_extension": ".py",
   "mimetype": "text/x-python",
   "name": "python",
   "nbconvert_exporter": "python",
   "pygments_lexer": "ipython3",
   "version": "3.12.5"
  }
 },
 "nbformat": 4,
 "nbformat_minor": 2
}
